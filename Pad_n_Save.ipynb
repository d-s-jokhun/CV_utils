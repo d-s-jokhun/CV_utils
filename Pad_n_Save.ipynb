{
 "cells": [
  {
   "cell_type": "code",
   "execution_count": 38,
   "metadata": {},
   "outputs": [],
   "source": [
    "import numpy as np\n",
    "import cv2\n",
    "import math"
   ]
  },
  {
   "cell_type": "code",
   "execution_count": 55,
   "metadata": {},
   "outputs": [],
   "source": [
    "def Pad_n_Save (save_path, img, ImgSize=None):\n",
    "    \n",
    "    if ImgSize==0 or ImgSize==[] or ImgSize==[0,0] or ImgSize==(0,0) or ImgSize==None:\n",
    "        ImgSize=(img.shape[1],img.shape[0])\n",
    "    if type(ImgSize)==list:\n",
    "        ImgSize=tuple(ImgSize)\n",
    "    assert len(ImgSize)==2, 'ImgSize must be a tuple of 2 integers (W,H) or (0,0) to skip padding'\n",
    "    assert type(ImgSize[0])==int, 'ImgSize must be a tuple of 2 integers (W,H) or (0,0) to skip padding'\n",
    "    assert type(ImgSize[1])==int, 'ImgSize must be a tuple of 2 integers (W,H) or (0,0) to skip padding'\n",
    "    \n",
    "    W = ImgSize[0]\n",
    "    H = ImgSize[1]\n",
    "    W0 = img.shape[1]\n",
    "    H0 = img.shape[0]\n",
    "\n",
    "    if (W<W0 or H<H0):\n",
    "        print (save_path,'was not saved because the original image size exceed the desired one!')\n",
    "        return\n",
    "    else:    \n",
    "        width_to_pad=W-W0\n",
    "        height_to_pad=H-H0\n",
    "        width_start, width_end, height_start, height_end = (0,0,0,0)\n",
    "        if width_to_pad>0:\n",
    "            width_start = width_to_pad//2\n",
    "            width_end = width_to_pad - width_start\n",
    "        if height_to_pad>0:\n",
    "            height_start = height_to_pad//2\n",
    "            height_end = height_to_pad - height_start\n",
    "\n",
    "        if len(img.shape) == 2:\n",
    "            img = np.pad(img,((height_start,height_end),(width_start,width_end)))\n",
    "        elif len(img.shape) == 3:\n",
    "            img = np.pad(img,((height_start,height_end),(width_start,width_end),(0,0)))\n",
    "\n",
    "        cv2.imwrite(save_path,img)\n",
    "    \n",
    "    return"
   ]
  },
  {
   "cell_type": "code",
   "execution_count": null,
   "metadata": {},
   "outputs": [],
   "source": []
  },
  {
   "cell_type": "code",
   "execution_count": null,
   "metadata": {},
   "outputs": [],
   "source": []
  }
 ],
 "metadata": {
  "kernelspec": {
   "display_name": "Python 3",
   "language": "python",
   "name": "python3"
  },
  "language_info": {
   "codemirror_mode": {
    "name": "ipython",
    "version": 3
   },
   "file_extension": ".py",
   "mimetype": "text/x-python",
   "name": "python",
   "nbconvert_exporter": "python",
   "pygments_lexer": "ipython3",
   "version": "3.7.7"
  }
 },
 "nbformat": 4,
 "nbformat_minor": 4
}
